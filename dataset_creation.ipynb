{
 "cells": [
  {
   "cell_type": "code",
   "execution_count": null,
   "id": "53408c84-753d-48bc-a5bb-b712bb6c6d8a",
   "metadata": {},
   "outputs": [],
   "source": [
    "val_data = pd.read_csv('seahorse_data/validation.tsv',delimiter='\\t')\n",
    "val_data['gem_dataset_ref'] = val_data['gem_id'].apply(lambda x:x.split('-')[0])\n",
    "\n",
    "list_to_download = val_data['gem_dataset_ref'].unique()\n"
   ]
  },
  {
   "cell_type": "code",
   "execution_count": null,
   "id": "9897c556-822b-4ffe-9a4d-1c0660918f36",
   "metadata": {},
   "outputs": [],
   "source": [
    "import tensorflow_datasets as tfds\n",
    "\n",
    "complete_hfdf = pd.DataFrame()\n",
    "\n",
    "for gem in list_to_download:\n",
    "    if 'wiki_lingua' in gem:\n",
    "        orig_split = 'validation'\n",
    "        \n",
    "        ds, info = tfds.load(f'huggingface:gem/{gem}', split=orig_split, with_info=True)\n",
    "        hfdf = tfds.as_dataframe(ds,info)\n",
    "    \n",
    "        hfdf['gem_id'] = hfdf['gem_id'].apply(lambda x:x.decode('utf-8'))\n",
    "        val_answer_data = val_data.set_index('gem_id').join(hfdf.set_index('gem_id')).dropna()\n",
    "        complete_hfdf = pd.concat([complete_hfdf,val_answer_data])"
   ]
  },
  {
   "cell_type": "code",
   "execution_count": null,
   "id": "2a215ad1-564c-4c69-a367-8ae057852e54",
   "metadata": {},
   "outputs": [],
   "source": [
    "complete_hfdf.to_csv('created_data_wikilingua.csv')"
   ]
  }
 ],
 "metadata": {
  "kernelspec": {
   "display_name": "Python 3 (ipykernel)",
   "language": "python",
   "name": "python3"
  },
  "language_info": {
   "codemirror_mode": {
    "name": "ipython",
    "version": 3
   },
   "file_extension": ".py",
   "mimetype": "text/x-python",
   "name": "python",
   "nbconvert_exporter": "python",
   "pygments_lexer": "ipython3",
   "version": "3.8.10"
  }
 },
 "nbformat": 4,
 "nbformat_minor": 5
}
